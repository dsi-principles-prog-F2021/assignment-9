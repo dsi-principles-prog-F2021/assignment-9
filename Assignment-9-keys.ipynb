{
 "cells": [
  {
   "cell_type": "markdown",
   "metadata": {},
   "source": [
    "# Assignment 9 - Synthesizing Modules 9, 10 and 11\n",
    "\n",
    "<br>\n",
    "\n",
    "In this assignment, you will be combining the fundamental Python skills you have learned in class so far. This includes:\n",
    "   * Variables\n",
    "   * Built-in Types and Data Structures\n",
    "   * Control Flow\n",
    "   * Functions\n",
    "    \n",
    "<br>\n",
    "\n",
    "You will walk through the steps of writing a function that will calculate the molecular weight (molar mass) of any compound that consists of the elements carbon (C), oxygen (O) and hydrogren (H). The molecular weight should be calculated in g/mol (grams per mol). For your reference, the molecular weight of the three elements your calculator will need to handle are listed below:\n",
    "\n",
    "   * C: 12.01 g/mol\n",
    "   * H:  1.10 g/mol\n",
    "   * O: 16.00 g/mol\n",
    "  \n",
    "<br>\n",
    "\n",
    "You will be graded on the accuracy of your answers, use of skills we have used in class so far, and whether or not you write a **good** function (functions should be named appropriately and have **useful comments**. 10 pts of this assignment will be graded on this criterion)."
   ]
  },
  {
   "cell_type": "markdown",
   "metadata": {},
   "source": [
    "<font color = \"red\"> <b>\n",
    "This is graded by the readbility of variable names and comments. Comments should be meaningful and clear.      \n",
    "</font>"
   ]
  },
  {
   "cell_type": "markdown",
   "metadata": {},
   "source": [
    "<br>\n",
    "<br>\n",
    "\n",
    "## Question 1 (5 pts)\n",
    "\n",
    "<br>\n",
    "\n",
    "Write a simple calculator function will compute the sum of inputs `a`, `b`, and `c`. Note that this should be a function with inputs `a`, `b`, and `c`. You may assume the inputs are integers or floats. "
   ]
  },
  {
   "cell_type": "code",
   "execution_count": 2,
   "metadata": {},
   "outputs": [],
   "source": [
    "def calSum(a,b,c):\n",
    "    return a + b + c"
   ]
  },
  {
   "cell_type": "markdown",
   "metadata": {},
   "source": [
    "<br>\n",
    "<br>\n",
    "\n",
    "## Question 2 (30 pts)\n",
    "\n",
    "<br>\n",
    "\n",
    "Write a function called `parse_formula()` to parse a string that defines a formula of molecular compound. The string should be parsed into a list of tuples, where each tuple is (element, number of elements). For example: \n",
    "\n",
    "   * Input: 'CH3CH2OH'\n",
    "   * Output: [('C', ''), ('H', '3'), ('C', ''), ('H', '2'), ('O', ''), ('H', '')]\n",
    "\n",
    "<br>\n",
    "\n",
    "You may assume that the compounds your function will be given contain **only** the elements C, H, and O. Do **not** assume that the subscript of each element will be [0,9], i.e., a valid input to this function is 'C15H16O2'. \n",
    "\n",
    "<br>\n",
    "\n",
    "Hint: Using nested loops here will be helpful. "
   ]
  },
  {
   "cell_type": "code",
   "execution_count": 51,
   "metadata": {},
   "outputs": [
    {
     "data": {
      "text/plain": [
       "[('H', ''), ('C', ''), ('O', '3')]"
      ]
     },
     "execution_count": 51,
     "metadata": {},
     "output_type": "execute_result"
    }
   ],
   "source": [
    "def parse_formula(formula):\n",
    "    result = []\n",
    "    i = 0\n",
    "    # Go through the whole string\n",
    "    while(i < len(formula)):\n",
    "        j = i + 1\n",
    "        num = \"\"\n",
    "        # find the number associated with compound\n",
    "        while(j < len(formula) and formula[j].isnumeric()):\n",
    "            num += formula[j]\n",
    "            j += 1\n",
    "        result.append((formula[i], num))\n",
    "        i = j\n",
    "    return(result)\n",
    "\n",
    "parse_formula('HCO3')"
   ]
  },
  {
   "cell_type": "markdown",
   "metadata": {},
   "source": [
    "### Testcase for Q2"
   ]
  },
  {
   "cell_type": "code",
   "execution_count": 52,
   "metadata": {},
   "outputs": [
    {
     "name": "stdout",
     "output_type": "stream",
     "text": [
      "Test for Q2: \n",
      "Score: 30/30\n"
     ]
    }
   ],
   "source": [
    "print(\"Test for Q2: \")\n",
    "score = 0\n",
    "\n",
    "test_inputs = ['C', 'CH', 'HCO3', 'CH4', 'CH3CH2', 'CH3CH2OH', 'C15H16O2', 'C6H12O6', 'C600H1200O600OH', 'CH3C600H1200O600OHC15H16O2CHO']\n",
    "test_outputs = [[('C', '')], [('C', ''), ('H', '')], [('H', ''), ('C', ''), ('O', '3')], \\\n",
    "                [('C', ''), ('H', '4')], [('C', ''), ('H', '3'), ('C', ''), ('H', '2')], \\\n",
    "               [('C', ''), ('H', '3'), ('C', ''), ('H', '2'), ('O', ''), ('H', '')], \\\n",
    "               [('C', '15'), ('H', '16'), ('O', '2')], [('C', '6'), ('H', '12'), ('O', '6')], \\\n",
    "               [('C', '600'), ('H', '1200'), ('O', '600'), ('O', ''), ('H', '')], \\\n",
    "               [('C', ''), ('H', '3'), ('C', '600'), ('H', '1200'), ('O', '600'), ('O', ''), ('H', ''), ('C', '15'), ('H', '16'), ('O', '2'), ('C', ''), ('H', ''), ('O', '')]]\n",
    "\n",
    "for i in range(len(test_inputs)):\n",
    "    if parse_formula(test_inputs[i]) == test_outputs[i]:\n",
    "        score += 3\n",
    "    else:\n",
    "        print(\"Input: \", test_inputs[i])\n",
    "        print(\"Your Output: \", parse_formula(test_inputs[i]))\n",
    "        print(\"Expected Output: \", test_outputs[i])\n",
    "\n",
    "print(\"Score: %d/30\" % score)"
   ]
  },
  {
   "cell_type": "markdown",
   "metadata": {},
   "source": [
    "<br>\n",
    "<br>\n",
    "\n",
    "## Question 3 (30 pts)\n",
    "\n",
    "<br>\n",
    "\n",
    "Write a function `molecular_weight()` that takes in a string input `formula` and returns the molecular weight in g/mol. Your function only needs to handle molecules that contain elements C, H, and O, so you can assume any fomula input will only contain those elements. Also, you can assume any formula input will not contain parentheses.\n",
    "\n",
    "<br>\n",
    "\n",
    "**Hints**\n",
    "\n",
    "1. Define a dictionary with key:value pairs {element : weight in g/mol}\n",
    "2. Call your function `parse_formula()` inside this function"
   ]
  },
  {
   "cell_type": "code",
   "execution_count": 50,
   "metadata": {},
   "outputs": [
    {
     "data": {
      "text/plain": [
       "61.11"
      ]
     },
     "execution_count": 50,
     "metadata": {},
     "output_type": "execute_result"
    }
   ],
   "source": [
    "def molecular_weight(formula):\n",
    "    molar_mass = {'C': 12.01, 'H': 1.10, 'O': 16.00}\n",
    "    parse_res = parse_formula(formula)\n",
    "    weight = 0\n",
    "    # Go through the whole formula list\n",
    "    for i in parse_res:\n",
    "        # if number is 1\n",
    "        if i[1] == '':\n",
    "            weight += molar_mass[i[0]]\n",
    "        # if number is actual number\n",
    "        else:\n",
    "            weight += float(i[1]) * molar_mass[i[0]]\n",
    "    return weight\n",
    "molecular_weight('HCO3')"
   ]
  },
  {
   "cell_type": "markdown",
   "metadata": {},
   "source": [
    "### Testcase for Q3"
   ]
  },
  {
   "cell_type": "code",
   "execution_count": 45,
   "metadata": {},
   "outputs": [
    {
     "name": "stdout",
     "output_type": "stream",
     "text": [
      "Test for Q3: \n",
      "Score: 30/30\n"
     ]
    }
   ],
   "source": [
    "print(\"Test for Q3: \")\n",
    "score = 0\n",
    "\n",
    "test_inputs = ['C', 'CH', 'HCO3', 'CH4', 'CH3CH2', 'CH3CH2OH', 'C15H16O2', 'C6H12O6', 'C600H1200O600OH', 'C15H16O2CHO345']\n",
    "test_outputs = [12.01, 13.11, 61.11, 16.41, 29.52, 46.62, 229.75, 181.26, 18143.1, 5762.86]\n",
    "\n",
    "for i in range(len(test_inputs)):\n",
    "    if molecular_weight(test_inputs[i]) == test_outputs[i]:\n",
    "        score += 3\n",
    "    else:\n",
    "        print(\"Input: \", test_inputs[i])\n",
    "        print(\"Your Output: \", molecular_weight(test_inputs[i]))\n",
    "        print(\"Expected Output: \", test_outputs[i])\n",
    "\n",
    "print(\"Score: %d/30\" % score)"
   ]
  },
  {
   "cell_type": "markdown",
   "metadata": {},
   "source": [
    "<br>\n",
    "<br>\n",
    "\n",
    "## Question 4 (5 pts)\n",
    "\n",
    "<br>\n",
    "\n",
    "Test your function `molecular_weight()` on the following inputs. Print out the molecular weight of each formula below. \n",
    "\n",
    "   1. CH4\n",
    "   2. CH3OH\n",
    "   3. C6H5OH\n",
    "   4. CH3CH2OH\n",
    "   5. C18H32O16"
   ]
  },
  {
   "cell_type": "code",
   "execution_count": 9,
   "metadata": {},
   "outputs": [
    {
     "name": "stdout",
     "output_type": "stream",
     "text": [
      "CH4: 16.41\n",
      "CH3OH: 32.41\n",
      "C6H5OH: 94.66\n",
      "CH3CH2OH: 46.62\n",
      "C18H32O16: 507.38\n"
     ]
    }
   ],
   "source": [
    "test_form = ['CH4', 'CH3OH', 'C6H5OH', 'CH3CH2OH','C18H32O16']\n",
    "for i in test_form:\n",
    "    print(i + \": \" + str('%.2f' % molecular_weight(i)))"
   ]
  },
  {
   "cell_type": "markdown",
   "metadata": {},
   "source": [
    "<br>\n",
    "<br>\n",
    "\n",
    "## Question 5 (20 pts)\n",
    "\n",
    "<br>\n",
    "\n",
    "Write code that asks a user to input as many chemical formulas as they'd like, separated by a comma. Assume these compounds contain only the elements C, H, and O, that the formulas do not contain parentheses, and that your user actually separates inputs using commas. Your code should return the molecular weight of each of the compounds entered. \n",
    "\n",
    "<br>\n",
    "\n",
    "For example, if the user inputs the string \"CH4, CH3OH, C6H5OH\", your code should return the molecular weights of each compound. You should print the name of each compound along with the weight so the user can tell which weight corresponds to which compound. (Hint: simply use a print statement to print the formula and weight). \n",
    "\n",
    "<br>\n",
    "\n",
    "Hint: You can use `str.split(\",\")` to split a string on commas. The result will be a list that you can iterate over. Call your `molecular_formula` function on each element of the list. \n",
    "\n",
    "a) Define a function named `multi_molar_weight()`. The function should have a parameter of users input string. "
   ]
  },
  {
   "cell_type": "code",
   "execution_count": 42,
   "metadata": {},
   "outputs": [
    {
     "name": "stdout",
     "output_type": "stream",
     "text": [
      "CH4's molecular weight: 16.41\n",
      "CH3OH's molecular weight: 32.41\n",
      "C6H5OH's molecular weight: 94.66\n"
     ]
    },
    {
     "data": {
      "text/plain": [
       "{'CH4': 16.41, 'CH3OH': 32.410000000000004, 'C6H5OH': 94.66}"
      ]
     },
     "execution_count": 42,
     "metadata": {},
     "output_type": "execute_result"
    }
   ],
   "source": [
    "def multi_molar_weight(strings):\n",
    "    formular_list = strings.split(\", \")\n",
    "    weight_dict = {}\n",
    "    for i in formular_list:\n",
    "        weight_dict.update({i: molecular_weight(i)})\n",
    "        print(i + \"'s molecular weight: \" + str('%.2f' % molecular_weight(i)))\n",
    "    return weight_dict\n",
    "multi_molar_weight(\"CH4, CH3OH, C6H5OH\")"
   ]
  },
  {
   "cell_type": "markdown",
   "metadata": {},
   "source": [
    "b) Write an expression to ask user input their chemical formulas. You need to specify the rules of the input (i.e. how many formulas they can input at a time, what seperator they should use between multiple formulas, etc.). After reading from user's input, you should print the molecular weight of each formula the user asked by calling multi_molar_weight() you defined above. "
   ]
  },
  {
   "cell_type": "markdown",
   "metadata": {},
   "source": [
    "<font color = \"red\">\n",
    "Answers may vary. \n",
    "</font>"
   ]
  },
  {
   "cell_type": "markdown",
   "metadata": {},
   "source": [
    "## Bonus (20 pts)"
   ]
  },
  {
   "cell_type": "markdown",
   "metadata": {},
   "source": [
    "The functions we defined in Question 2 are under the assumption that the chemical formula only contains \"C\", \"H\" and \"O\". Redefine the functions in Question 2 that can handle any element in the periodic table. \n",
    "\n",
    "Example 1:<br>\n",
    "Input: 'NaOH'<br>\n",
    "Output: [('Na', ''), ('O', ''), ('H', '')]<br>\n",
    "Example 2:<br>\n",
    "Input: 'MgCl2'<br>\n",
    "Output: [('Mg', ''), ('Cl', '2')]\n",
    "\n"
   ]
  },
  {
   "cell_type": "code",
   "execution_count": 60,
   "metadata": {},
   "outputs": [
    {
     "data": {
      "text/plain": [
       "[('Pb', ''), ('O', '2')]"
      ]
     },
     "execution_count": 60,
     "metadata": {},
     "output_type": "execute_result"
    }
   ],
   "source": [
    "def parse_formula_renewed(formula):\n",
    "    result = []\n",
    "    i = 0\n",
    "    while(i < len(formula)):\n",
    "        j = i + 1\n",
    "        num = \"\"\n",
    "        cat = \"\"\n",
    "        if formula[i].isupper():\n",
    "            cat += formula[i]\n",
    "            while(j < len(formula) and formula[j].islower()):\n",
    "                cat += formula[j]\n",
    "                j += 1\n",
    "        while(j < len(formula) and formula[j].isnumeric()):\n",
    "                num += formula[j]\n",
    "                j += 1\n",
    "        result.append((cat, num))\n",
    "        i = j\n",
    "    return(result)\n",
    "\n",
    "parse_formula_renewed('PbO2')"
   ]
  },
  {
   "cell_type": "markdown",
   "metadata": {},
   "source": [
    "### Testcase for Bonus"
   ]
  },
  {
   "cell_type": "code",
   "execution_count": 62,
   "metadata": {},
   "outputs": [
    {
     "name": "stdout",
     "output_type": "stream",
     "text": [
      "Test for Bonus: \n",
      "Score: 20/20\n"
     ]
    }
   ],
   "source": [
    "print(\"Test for Bonus: \")\n",
    "score = 0\n",
    "\n",
    "test_inputs = ['NaOH', 'MgCl2', 'Al2SO4', 'MnO4', 'HSO4', 'CrO4', 'Fe2SO4', 'NaHCO3', 'C16H18ClN3S', 'PbO2']\n",
    "test_outputs = [[('Na', ''), ('O', ''), ('H', '')], [('Mg', ''), ('Cl', '2')], [('Al', '2'), ('S', ''), ('O', '4')],\\\n",
    "                [('Mn', ''), ('O', '4')], [('H', ''), ('S', ''), ('O', '4')], [('Cr', ''), ('O', '4')], \\\n",
    "                [('Fe', '2'), ('S', ''), ('O', '4')], [('Na', ''), ('H', ''), ('C', ''), ('O', '3')], \\\n",
    "                [('C', '16'), ('H', '18'), ('Cl', ''), ('N', '3'), ('S', '')], \\\n",
    "                [('Pb', ''), ('O', '2')]]\n",
    "\n",
    "for i in range(len(test_inputs)):\n",
    "    if parse_formula_renewed(test_inputs[i]) == test_outputs[i]:\n",
    "        score += 2\n",
    "    else:\n",
    "        print(\"Input: \", test_inputs[i])\n",
    "        print(\"Your Output: \", parse_formula_renewed(test_inputs[i]))\n",
    "        print(\"Expected Output: \", test_outputs[i])\n",
    "\n",
    "print(\"Score: %d/20\" % score)"
   ]
  },
  {
   "cell_type": "code",
   "execution_count": null,
   "metadata": {},
   "outputs": [],
   "source": []
  }
 ],
 "metadata": {
  "kernelspec": {
   "display_name": "Python 3",
   "language": "python",
   "name": "python3"
  },
  "language_info": {
   "codemirror_mode": {
    "name": "ipython",
    "version": 3
   },
   "file_extension": ".py",
   "mimetype": "text/x-python",
   "name": "python",
   "nbconvert_exporter": "python",
   "pygments_lexer": "ipython3",
   "version": "3.8.8"
  }
 },
 "nbformat": 4,
 "nbformat_minor": 4
}
