{
 "cells": [
  {
   "cell_type": "markdown",
   "metadata": {},
   "source": [
    "# Assignment 9 - Synthesizing Modules 9, 10 and 11\n",
    "\n",
    "<br>\n",
    "\n",
    "In this assignment, you will be combining the fundamental Python skills you have learned in class so far. This includes:\n",
    "   * Variables\n",
    "   * Built-in Types and Data Structures\n",
    "   * Control Flow\n",
    "   * Functions\n",
    "    \n",
    "<br>\n",
    "\n",
    "You will walk through the steps of writing a function that will calculate the molecular weight (molar mass) of any compound that consists of the elements carbon (C), oxygen (O) and hydrogren (H). The molecular weight should be calculated in g/mol (grams per mol). For your reference, the molecular weight of the three elements your calculator will need to handle are listed below:\n",
    "\n",
    "   * C: 12.01 g/mol\n",
    "   * H:  1.10 g/mol\n",
    "   * O: 16.00 g/mol\n",
    "  \n",
    "<br>\n",
    "\n",
    "You will be graded on the accuracy of your answers, use of skills we have used in class so far, and whether or not you write a **good** function (functions should be named appropriately and have **useful comments**. 10 pts of this assignment will be graded on this criterion)."
   ]
  },
  {
   "cell_type": "markdown",
   "metadata": {},
   "source": [
    "<br>\n",
    "<br>\n",
    "\n",
    "## Question 1 (5 pts)\n",
    "\n",
    "<br>\n",
    "\n",
    "Write a simple calculator function will compute the sum of inputs `a`, `b`, and `c`. Note that this should be a function with inputs `a`, `b`, and `c`. You may assume the inputs are integers or floats. "
   ]
  },
  {
   "cell_type": "code",
   "execution_count": null,
   "metadata": {},
   "outputs": [],
   "source": [
    "def calSum(a,b,c):\n",
    "    # Edit here"
   ]
  },
  {
   "cell_type": "markdown",
   "metadata": {},
   "source": [
    "<br>\n",
    "<br>\n",
    "\n",
    "## Question 2 (30 pts)\n",
    "\n",
    "<br>\n",
    "\n",
    "Write a function called `parse_formula()` to parse a string that defines a formula of molecular compound. The string should be parsed into a list of tuples, where each tuple is (element, number of elements). For example: \n",
    "\n",
    "   * Input: 'CH3CH2OH'\n",
    "   * Output: [('C', ''), ('H', '3'), ('C', ''), ('H', '2'), ('O', ''), ('H', '')]\n",
    "\n",
    "<br>\n",
    "\n",
    "You may assume that the compounds your function will be given contain **only** the elements C, H, and O. Do **not** assume that the subscript of each element will be [0,9], i.e., a valid input to this function is 'C15H16O2'. \n",
    "\n",
    "<br>\n",
    "\n",
    "Hint: Using nested loops here will be helpful. "
   ]
  },
  {
   "cell_type": "code",
   "execution_count": null,
   "metadata": {},
   "outputs": [],
   "source": [
    "def parse_formula(formula):\n",
    "    # Edit here"
   ]
  },
  {
   "cell_type": "markdown",
   "metadata": {},
   "source": [
    "<br>\n",
    "<br>\n",
    "\n",
    "## Question 3 (30 pts)\n",
    "\n",
    "<br>\n",
    "\n",
    "Write a function `molecular_weight()` that takes in a string input `formula` and returns the molecular weight in g/mol. Your function only needs to handle molecules that contain elements C, H, and O, so you can assume any fomula input will only contain those elements. Also, you can assume any formula input will not contain parentheses.\n",
    "\n",
    "<br>\n",
    "\n",
    "**Hints**\n",
    "\n",
    "1. Define a dictionary with key:value pairs {element : weight in g/mol}\n",
    "2. Call your function `parse_formula()` inside this function"
   ]
  },
  {
   "cell_type": "code",
   "execution_count": null,
   "metadata": {},
   "outputs": [],
   "source": [
    "def molecular_weight(formula):\n",
    "    # Edit here"
   ]
  },
  {
   "cell_type": "markdown",
   "metadata": {},
   "source": [
    "<br>\n",
    "<br>\n",
    "\n",
    "## Question 4 (5 pts)\n",
    "\n",
    "<br>\n",
    "\n",
    "Test your function `molecular_weight()` on the following inputs. Print out the molecular weight of each formula below. \n",
    "\n",
    "   1. CH4\n",
    "   2. CH3OH\n",
    "   3. C6H5OH\n",
    "   4. CH3CH2OH\n",
    "   5. C18H32O16"
   ]
  },
  {
   "cell_type": "code",
   "execution_count": null,
   "metadata": {},
   "outputs": [],
   "source": []
  },
  {
   "cell_type": "markdown",
   "metadata": {},
   "source": [
    "<br>\n",
    "<br>\n",
    "\n",
    "## Question 5 (20 pts)\n",
    "\n",
    "<br>\n",
    "\n",
    "Write code that asks a user to input as many chemical formulas as they'd like, separated by a comma. Assume these compounds contain only the elements C, H, and O, that the formulas do not contain parentheses, and that your user actually separates inputs using commas. Your code should return the molecular weight of each of the compounds entered. (Hint: You can use `str.split(\",\")` to split a string on commas. The result will be a list that you can iterate over. Call your `molecular_formula()` function on each element of the list. )\n",
    "\n",
    "<br>\n",
    "\n",
    "For example, if the user inputs the string \"CH4, CH3OH, C6H5OH\", your code should return the molecular weights of each compound. You should print the name of each compound along with the weight so the user can tell which weight corresponds to which compound.\n",
    "\n",
    "<br>\n",
    "\n",
    "\n",
    "\n",
    "a) Define a function named `multi_molar_weight()`. The function should have a parameter of a user's input string. Return a dictionary that contains every chemical formula and their molecular weights. \n",
    "<br>\n",
    "Example:<br>\n",
    "Input: \"CH3, CH4OH\"<br>\n",
    "Output: {\"CH3\": 15.31, \"CH4OH\": 33.51}"
   ]
  },
  {
   "cell_type": "code",
   "execution_count": null,
   "metadata": {},
   "outputs": [],
   "source": [
    "def multi_molar_weight(strings):\n",
    "    # Edit here"
   ]
  },
  {
   "cell_type": "markdown",
   "metadata": {},
   "source": [
    "b) Write an expression that asks a user to input their chemical formulas. You need to specify the rules of the input (i.e. how many formulas they can input at a time, what seperator they should use between multiple formulas, etc.). After reading from user's input, you should print the molecular weight of each formula the user asked by calling `multi_molar_weight()` you defined above.  (Hint: simply use a print statement to print the formula and weight). "
   ]
  },
  {
   "cell_type": "code",
   "execution_count": null,
   "metadata": {},
   "outputs": [],
   "source": []
  },
  {
   "cell_type": "markdown",
   "metadata": {},
   "source": [
    "## Bonus Question (20 pts)"
   ]
  },
  {
   "cell_type": "markdown",
   "metadata": {},
   "source": [
    "The function we defined in Question 2 are under the assumption that the chemical formula only contains \"C\", \"H\" and \"O\". Redefine the function in Question 2 that can handle any element in the periodic table. \n",
    "\n",
    "Example 1:<br>\n",
    "Input: 'NaOH'<br>\n",
    "Output: [('Na', ''), ('O', ''), ('H', '')]<br>\n",
    "Example 2:<br>\n",
    "Input: 'MgCl2'<br>\n",
    "Output: [('Mg', ''), ('Cl', '2')]\n"
   ]
  },
  {
   "cell_type": "code",
   "execution_count": null,
   "metadata": {},
   "outputs": [],
   "source": [
    "def parse_formula_renewed(formula):\n",
    "    # Edit here"
   ]
  }
 ],
 "metadata": {
  "kernelspec": {
   "display_name": "Python 3",
   "language": "python",
   "name": "python3"
  },
  "language_info": {
   "codemirror_mode": {
    "name": "ipython",
    "version": 3
   },
   "file_extension": ".py",
   "mimetype": "text/x-python",
   "name": "python",
   "nbconvert_exporter": "python",
   "pygments_lexer": "ipython3",
   "version": "3.8.8"
  }
 },
 "nbformat": 4,
 "nbformat_minor": 4
}
